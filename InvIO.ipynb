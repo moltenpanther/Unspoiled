{
 "cells": [
  {
   "cell_type": "markdown",
   "id": "26e44a34-f622-4626-a2d3-5b5987f61cae",
   "metadata": {},
   "source": [
    "## Unspoiled - Phantom Tracker\n",
    "#### Ben Cobb"
   ]
  },
  {
   "cell_type": "markdown",
   "id": "9d06d782-28bf-4190-95e7-7cb76f16c88c",
   "metadata": {},
   "source": [
    "Spring 2024"
   ]
  },
  {
   "cell_type": "markdown",
   "id": "6a896057-0f69-485e-a57c-1b33eba1d19f",
   "metadata": {},
   "source": [
    "## Imports and Libraries"
   ]
  },
  {
   "cell_type": "code",
   "execution_count": 2,
   "id": "9f3a3541-1257-4e9a-b6b0-f17e8a6a1297",
   "metadata": {},
   "outputs": [],
   "source": [
    "import cv2 as cv\n",
    "import os\n",
    "import time\n",
    "import datetime\n",
    "import requests\n",
    "from PIL import Image\n",
    "from matplotlib import pyplot as plt"
   ]
  },
  {
   "cell_type": "markdown",
   "id": "92a80827-e4d3-4203-9f47-b2e2ec453391",
   "metadata": {},
   "source": [
    "# Global Variables"
   ]
  },
  {
   "cell_type": "code",
   "execution_count": 126,
   "id": "24b0a665-3ace-4c22-b5f2-706351c8a405",
   "metadata": {},
   "outputs": [],
   "source": [
    "\n",
    "camIDs = [1, 2, 3]     # Built-in webcam is ID 0. We can change these values to whatever our three camera's ID is\n",
    "camDepts = [0, 1, 2]   # This is to track which camera is covering which department\n",
    "itemID = 4\n",
    "qty = 2\n",
    "add = True\n",
    "\n",
    "classes = [\"MILK\", \"EGGCARTON\", \"CREAMER\", \"APPLE\", \"BANANA\", \"PEAR\", \"COUGHDROPS\", \"CHEEZIT\", \"SODA\"]\n",
    "'''\n",
    "classIDs:\n",
    "0 = \"milk\"\n",
    "1 = \"eggcarton\"\n",
    "2 = \"creamer\"\n",
    "3 = \"apple\"\n",
    "4 = \"banana\"\n",
    "5 = \"pear\"\n",
    "6 = \"coughdrops\"\n",
    "7 = \"cheezit\"\n",
    "8 = \"soda\"\n",
    "'''\n",
    "\n",
    "\n",
    "##############\n",
    "# CONNECTION #\n",
    "##############\n",
    "ip = \"74.117.171.112\"\n",
    "port = \"32008\"\n",
    "connURL = f\"http://{ip}:{port}\"\n",
    "\n",
    "########\n",
    "# URLS #\n",
    "########\n",
    "checkDeptURL = f\"{connURL}/Inventory/GetInventoryItem/\"\n",
    "checkPhantomURL = f\"{connURL}/Phantom/GetAllPhantomsByCenter/\"\n",
    "createPhantomURL = f\"{connURL}/Phantom/CreatePhantom/\"\n",
    "\n",
    "#########\n",
    "# OTHER #\n",
    "#########\n",
    "interval = 3    # how many seconds to wait before taking another pic\n",
    "boxCount = 0\n",
    "cmap = \"gray\"   # for displaying images"
   ]
  },
  {
   "cell_type": "markdown",
   "id": "88fd9b6f-77bd-4bfc-929a-53a87f54027b",
   "metadata": {},
   "source": [
    "# Methods"
   ]
  },
  {
   "cell_type": "code",
   "execution_count": 103,
   "id": "0fa09c93-31c2-492d-b98d-97c8c6166663",
   "metadata": {},
   "outputs": [],
   "source": [
    "# Checks the item's department, returns true if matches camDeptID\n",
    "def getInv(classID, camDeptID):\n",
    "\n",
    "    match = False\n",
    "    deptID = -1\n",
    "        \n",
    "    # Attempt a connection\n",
    "    try:\n",
    "        response = requests.get(f\"{checkDeptURL}{str(classID)}\")    \n",
    "        statusCode = response.status_code\n",
    "        \n",
    "        # We're in!\n",
    "        if statusCode == 200:\n",
    "            \n",
    "            # Parses the response JSON\n",
    "            data = response.json()\n",
    "    \n",
    "            # If the ID doesn't exist\n",
    "            if not data[\"success\"]:\n",
    "                print(\"NO SUCH ITEM!\")\n",
    "                deptID = -1\n",
    "                \n",
    "            # If the ID DOES exist\n",
    "            else:\n",
    "                deptID = data[\"inventory\"][\"deptId\"]\n",
    "                if camDeptID == deptID:   # Item is in correct department\n",
    "                    match = True\n",
    "                    \n",
    "        else:\n",
    "            print(\"CONNECTION ERROR: \", statusCode)\n",
    "            deptID = -2\n",
    "               \n",
    "    except:\n",
    "        print(\"UNEXPECTED CONNECTION ERROR!!!\")\n",
    "        print(\"Possibly the server isn't open?\")\n",
    "        deptID = -3\n",
    "        \n",
    "    return match, deptID"
   ]
  },
  {
   "cell_type": "code",
   "execution_count": 106,
   "id": "e94b76a4-cc3f-4b61-a5bf-7596dcdea03f",
   "metadata": {},
   "outputs": [],
   "source": [
    "# Checks the PHANTOMS table to see if it's already been logged, returns true if so\n",
    "def checkPhantom(classID, camDeptID, centerX, centerY):\n",
    "\n",
    "    match = False\n",
    "    deptID = -1\n",
    "    \n",
    "    # Calculates the range of the center coords\n",
    "    epsilon = .05\n",
    "    centerXMin = str(round(centerX - .05, 6))\n",
    "    centerXMax = str(round(centerX + .05, 6))\n",
    "    centerYMin = str(round(centerY - .05, 6))\n",
    "    centerYMax = str(round(centerY + .05, 6))\n",
    "        \n",
    "    # Attempts a connection\n",
    "    try:\n",
    "        response = requests.get(f\"{checkPhantomURL}{centerXMin}/{centerXMax}/{centerYMin}/{centerYMax}\")\n",
    "        statusCode = response.status_code\n",
    "        \n",
    "        # We're in!\n",
    "        if statusCode == 200:\n",
    "            \n",
    "            # Parses the response JSON\n",
    "            data = response.json()\n",
    "    \n",
    "            # If the ID doesn't exist\n",
    "            if not data[\"success\"]:\n",
    "                print(\"NO SUCH ITEM!\")\n",
    "                deptID = -1\n",
    "                \n",
    "            # If PHANTOM DOES exist\n",
    "            else:\n",
    "                \n",
    "                # Go through list of returned PHANTOMS to see if there's one that matches the itemID and departmentID\n",
    "                phantoms = data[\"phantoms\"] # ?\n",
    "                for i in range(len(phantoms)):\n",
    "                    \n",
    "                    deptID = phantoms[i][\"deptCurrent\"]\n",
    "                    if camDeptID == deptID:   # Item is in correct department\n",
    "                        match = True\n",
    "                        \n",
    "        else:\n",
    "            print(\"CONNECTION ERROR: \", statusCode)\n",
    "            deptID = -2\n",
    "                   \n",
    "    except:\n",
    "        print(\"UNEXPECTED CONNECTION ERROR!!!\")\n",
    "        print(\"Possibly the server isn't open?\")\n",
    "        deptID = -3\n",
    "\n",
    "    return match, deptID"
   ]
  },
  {
   "cell_type": "code",
   "execution_count": 141,
   "id": "92a5d59d-7f8d-4513-8042-c91a4542779c",
   "metadata": {},
   "outputs": [],
   "source": [
    "# Creates a Phantom for the PHANTOMS table, return True if successful\n",
    "def createPhantom(classID, camDeptID, centerX, centerY, width, height, img):\n",
    "\n",
    "    inserted = False\n",
    "\n",
    "    # Gets the filepath where the box-cropped img is saved\n",
    "    # Or returns the box-cropped img itself \n",
    "    # :shrug:\n",
    "    boxImg = saveBox(centerX, centerY, width, height, img)  # If it's this one, we need to figure out how to BLOB!\n",
    "    imgDir = saveBox(centerX, centerY, width, height, img)\n",
    "    \n",
    "    phantom = {\n",
    "        \"centerX\": centerX,\n",
    "        \"centerY\": centerY,\n",
    "        \"claimed\": False,\n",
    "        \"deptCurrent\": camDeptID,\n",
    "        \"empId\": 0, \n",
    "        \"height\": height,\n",
    "       # \"imgDir\": imgDir,\n",
    "        \"invId\": classID,\n",
    "        \"phantomId\": 0,\n",
    "        \"returned\": False,\n",
    "        \"timeFound\": datetime.datetime.now().isoformat(),\n",
    "        \"width\": width\n",
    "    }\n",
    "    \n",
    "    # Attempts a connection\n",
    "    try:\n",
    "        response = requests.post(createPhantomURL, json=phantom)\n",
    "        statusCode = response.status_code\n",
    "        \n",
    "        # We're in!\n",
    "        if response.status_code == 200:\n",
    "            inserted = True\n",
    "        else:\n",
    "            print(f\"ERROR -- STATUS CODE: {status_code}\")\n",
    "\n",
    "    except:\n",
    "        print(\"UNEXPECTED CONNECTION ERROR!!!\")\n",
    "        print(\"Possibly the server isn't open?\")\n",
    "    \n",
    "    return inserted"
   ]
  },
  {
   "cell_type": "code",
   "execution_count": 134,
   "id": "2f5625d2-2571-42bc-9c24-c0ec4b6e264d",
   "metadata": {},
   "outputs": [],
   "source": [
    "# Crops image to relevant box and returns it as an img\n",
    "def saveBox(centerX, centerY, width, height, img):\n",
    "\n",
    "    boxImgPath = f\"./images_OLD/box-({centerX},{centerY}).png\"\n",
    "    \n",
    "    # Gets image width and height\n",
    "    imgWidth, imgHeight = img.size\n",
    "\n",
    "    # Calculate pixel coordinates from centerX, centerY, width, and height\n",
    "    minX = int((centerX - width / 2) * imgWidth)\n",
    "    minY = int((centerY - height / 2) * imgHeight)\n",
    "    maxX = int((centerX + width / 2) * imgWidth)\n",
    "    maxY = int((centerY + height / 2) * imgHeight)\n",
    "\n",
    "    # Crops the image to just the area of the bounding box\n",
    "    boxImg = img.crop((minX, minY, maxX, maxY))\n",
    "    plt.imshow(boxImg, cmap)\n",
    "    \n",
    "    # Saves the cropped image to the boxImgPath\n",
    "    boxImg.save(boxImgPath)\n",
    "\n",
    "    return boxImgPath"
   ]
  },
  {
   "cell_type": "markdown",
   "id": "06576890-f2ad-46d1-b9b7-0270e2905525",
   "metadata": {},
   "source": [
    "# Insert Items"
   ]
  },
  {
   "cell_type": "code",
   "execution_count": 146,
   "id": "72bf9403-7430-4805-b31e-f5920cb9a305",
   "metadata": {},
   "outputs": [
    {
     "name": "stdout",
     "output_type": "stream",
     "text": [
      "\n",
      "0: 384x640 1 milk, 2 eggcartons, 1 apple, 4 bananas, 1 pear, 1 cheezit, 64.4ms\n",
      "Speed: 1.5ms preprocess, 64.4ms inference, 1.1ms postprocess per image at shape (1, 3, 384, 640)\n"
     ]
    }
   ],
   "source": [
    "# Get item from Inventory API\n",
    "\n",
    "\n",
    "\n"
   ]
  },
  {
   "cell_type": "markdown",
   "id": "7e363151-ec2c-4ab9-8f91-f0ba8ae84545",
   "metadata": {},
   "source": [
    "# Delete Items"
   ]
  },
  {
   "cell_type": "code",
   "execution_count": 146,
   "id": "f367bc6a-1bad-450a-a8da-57d7c544b3c7",
   "metadata": {},
   "outputs": [
    {
     "name": "stdout",
     "output_type": "stream",
     "text": [
      "\n",
      "0: 384x640 1 milk, 2 eggcartons, 1 apple, 4 bananas, 1 pear, 1 cheezit, 64.4ms\n",
      "Speed: 1.5ms preprocess, 64.4ms inference, 1.1ms postprocess per image at shape (1, 3, 384, 640)\n"
     ]
    }
   ],
   "source": [
    "# Runs a picture through the model\n",
    "\n",
    "# Temp path for testing\n",
    "camImgPath = './images_OLD/groupshot10000.png'\n",
    "camDeptID = 2   # This will change, as we'll loop through the three cameras\n",
    "\n",
    "camImg = Image.open(camImgPath)\n",
    "results = model(camImg) # The camera's picture goes here!"
   ]
  },
  {
   "cell_type": "code",
   "execution_count": null,
   "id": "ca1196d9-843d-4d34-850f-6bca0ab150a6",
   "metadata": {},
   "outputs": [],
   "source": []
  },
  {
   "cell_type": "code",
   "execution_count": null,
   "id": "77e1d01f-0d8b-4053-a1ee-18e879acb19f",
   "metadata": {},
   "outputs": [],
   "source": []
  },
  {
   "cell_type": "code",
   "execution_count": null,
   "id": "bb0fc4bb-6565-4adf-9621-17db3065d91c",
   "metadata": {},
   "outputs": [],
   "source": []
  },
  {
   "cell_type": "code",
   "execution_count": null,
   "id": "074c8dcc-248d-4ce1-942e-b936aa1e5ef4",
   "metadata": {},
   "outputs": [],
   "source": []
  }
 ],
 "metadata": {
  "kernelspec": {
   "display_name": "Python 3 (ipykernel)",
   "language": "python",
   "name": "python3"
  },
  "language_info": {
   "codemirror_mode": {
    "name": "ipython",
    "version": 3
   },
   "file_extension": ".py",
   "mimetype": "text/x-python",
   "name": "python",
   "nbconvert_exporter": "python",
   "pygments_lexer": "ipython3",
   "version": "3.11.4"
  }
 },
 "nbformat": 4,
 "nbformat_minor": 5
}
