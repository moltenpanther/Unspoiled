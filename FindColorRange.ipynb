{
 "cells": [
  {
   "cell_type": "markdown",
   "id": "671e0260-6ac2-4341-89ef-58c74e662606",
   "metadata": {},
   "source": [
    "## Unspoiled - Find Color Range\n",
    "#### Ben Cobb"
   ]
  },
  {
   "cell_type": "markdown",
   "id": "1f8a3761-3e5a-4d2b-b89a-a6b5cd48d619",
   "metadata": {},
   "source": [
    "Spring 2024"
   ]
  },
  {
   "cell_type": "markdown",
   "id": "6a896057-0f69-485e-a57c-1b33eba1d19f",
   "metadata": {
    "jp-MarkdownHeadingCollapsed": true
   },
   "source": [
    "## Imports and Libraries"
   ]
  },
  {
   "cell_type": "code",
   "execution_count": 2,
   "id": "9f3a3541-1257-4e9a-b6b0-f17e8a6a1297",
   "metadata": {},
   "outputs": [],
   "source": [
    "import cv2 as cv\n",
    "import numpy as np\n",
    "import math\n",
    "from PIL import Image\n",
    "from matplotlib import pyplot as plt"
   ]
  },
  {
   "cell_type": "markdown",
   "id": "92a80827-e4d3-4203-9f47-b2e2ec453391",
   "metadata": {
    "jp-MarkdownHeadingCollapsed": true
   },
   "source": [
    "# Global Variables"
   ]
  },
  {
   "cell_type": "code",
   "execution_count": 3,
   "id": "24b0a665-3ace-4c22-b5f2-706351c8a405",
   "metadata": {},
   "outputs": [],
   "source": [
    "# This is the overall path, change this to wherever the project is saved on your system\n",
    "path = \"/Users/molte/OneDrive/Desktop/UAFS/~Spring 2024/Capstone/images/\"\n",
    "\n",
    "cmap = \"gray\""
   ]
  },
  {
   "cell_type": "markdown",
   "id": "4aeba7ba-f966-4245-99ca-8ebb8372645d",
   "metadata": {},
   "source": [
    "# Methods"
   ]
  },
  {
   "cell_type": "markdown",
   "id": "8c2a007a-0244-4491-9905-8f8aa923dae9",
   "metadata": {},
   "source": [
    "### ...to find the min/max/avg colors"
   ]
  },
  {
   "cell_type": "code",
   "execution_count": 4,
   "id": "a1e41d03-08a4-4383-94d5-97a3e2667693",
   "metadata": {},
   "outputs": [],
   "source": [
    "# Reshapes and resizes the image, given an image path\n",
    "def resize(imgPath):\n",
    "    \n",
    "    loadImg = loadpath + imgPath\n",
    "    img = cv.imread(loadImg)  # Reads in the image from the load path\n",
    "    img = cv.cvtColor(img, cv.COLOR_BGR2RGB)  # Converts it from OpenCV's BGR to normal RGB\n",
    "    \n",
    "    yrows, xcols, dim = img.shape\n",
    "    \n",
    "    # Determine the size of the black background\n",
    "    maxDim = max(yrows, xcols)\n",
    "    black = np.zeros((maxDim, maxDim, 3), dtype=img.dtype)\n",
    "    \n",
    "    # Calculate coordinates to place the original image centered on the black background\n",
    "    offsetY = (maxDim - yrows) // 2\n",
    "    offsetX = (maxDim - xcols) // 2\n",
    "    \n",
    "    # Place original image on black background centered\n",
    "    black[offsetY:offsetY+yrows, offsetX:offsetX+xcols] = img\n",
    "    \n",
    "    # Use the centered image for further processing\n",
    "    img = black\n",
    "    \n",
    "    # Resizes the image\n",
    "    resized = cv.resize(img, (int(maxDim / 4), int(maxDim / 4)))\n",
    "    \n",
    "    return resized"
   ]
  },
  {
   "cell_type": "code",
   "execution_count": 5,
   "id": "882fa0e3-cc50-490f-bb0a-3bdfc82b55d0",
   "metadata": {},
   "outputs": [],
   "source": [
    "# Finds the min values\n",
    "def findMins(channels, limit):\n",
    "\n",
    "    rs = channels[0]\n",
    "    gs = channels[1]\n",
    "    bs = channels[2]\n",
    "    \n",
    "    mins = np.zeros(3)\n",
    "    \n",
    "    count = 0\n",
    "    for i in range(256):\n",
    "        \n",
    "        if count < limit:\n",
    "            count += rs[i]\n",
    "        else:\n",
    "            mins[0] = i\n",
    "            break\n",
    "    \n",
    "    count = 0\n",
    "    for i in range(256):\n",
    "        \n",
    "        if count < limit:\n",
    "            count += gs[i]\n",
    "        else:\n",
    "            mins[1] = i\n",
    "            break\n",
    "    \n",
    "    count = 0\n",
    "    for i in range(256):\n",
    "        \n",
    "        if count < limit:\n",
    "            count += bs[i]\n",
    "        else:\n",
    "            mins[2] = i\n",
    "            break\n",
    "\n",
    "    return mins"
   ]
  },
  {
   "cell_type": "code",
   "execution_count": 6,
   "id": "a1c401ba-73ce-4550-b696-fa995306b78e",
   "metadata": {},
   "outputs": [],
   "source": [
    "# Finds the max values\n",
    "def findMaxs(channels, limit):\n",
    "\n",
    "    rs = channels[0]\n",
    "    gs = channels[1]\n",
    "    bs = channels[2]\n",
    "    \n",
    "    maxs = np.zeros(3)\n",
    "\n",
    "    count = 0\n",
    "    for i in range(255, -1, -1):\n",
    "        \n",
    "        if count < limit:\n",
    "            count += rs[i]\n",
    "        else:\n",
    "            maxs[0] = i\n",
    "            break\n",
    "    \n",
    "    count = 0\n",
    "    for i in range(255, -1, -1):\n",
    "        \n",
    "        if count < limit:\n",
    "            count += gs[i]\n",
    "        else:\n",
    "            maxs[1] = i\n",
    "            break\n",
    "    \n",
    "    count = 0\n",
    "    for i in range(255, -1, -1):\n",
    "        \n",
    "        if count < limit:\n",
    "            count += bs[i]\n",
    "        else:\n",
    "            maxs[2] = i\n",
    "            break\n",
    "\n",
    "    return maxs"
   ]
  },
  {
   "cell_type": "code",
   "execution_count": 7,
   "id": "b955bc57-88dc-4339-8947-8086f269936e",
   "metadata": {},
   "outputs": [],
   "source": [
    "# Displays two images next to each other\n",
    "def showImage(img):\n",
    "    \n",
    "    fig, axes = plt.subplots(1, 1, figsize=(3, 3))\n",
    "    \n",
    "    axes.axis('off')\n",
    "    axes.set_title(\"Image\")\n",
    "    \n",
    "    axes.imshow(img, cmap, vmin=0, vmax=255)"
   ]
  },
  {
   "cell_type": "code",
   "execution_count": 8,
   "id": "c0c7f121-cf48-44d5-bcc9-41e6065067ef",
   "metadata": {},
   "outputs": [],
   "source": [
    "# Creates the necessary folders\n",
    "def createFolders():\n",
    "    \n",
    "    if not os.path.exists(loadpath):\n",
    "        os.makedirs(loadpath)\n",
    "    if not os.path.exists(savepath):\n",
    "        os.makedirs(savepath)\n",
    "    if not os.path.exists(labelpath):\n",
    "        os.makedirs(labelpath)\n",
    "    if not os.path.exists(boxpath):\n",
    "        os.makedirs(boxpath)"
   ]
  },
  {
   "cell_type": "code",
   "execution_count": 9,
   "id": "b79396c0-1f83-4b64-9979-a579ee2b303e",
   "metadata": {},
   "outputs": [],
   "source": [
    "# Writes box info to a .txt file\n",
    "def writeBoxCoords(boxes, txtpath):\n",
    "\n",
    "    label = open(txtpath, \"w\")\n",
    "    for line in boxes:\n",
    "    \n",
    "        # Format: (classID, x_center, y_center, width, height)\n",
    "        out = f\"{line[0]} {line[1]:.6f} {line[2]:.6f} {line[3]:.6f} {line[4]:.6f}\" \n",
    "        \n",
    "        label.write(out + \"\\n\")\n",
    "\n",
    "    label.close()"
   ]
  },
  {
   "cell_type": "code",
   "execution_count": 10,
   "id": "8aedd9be-cf88-4e45-89ed-2f7eac2b35d7",
   "metadata": {},
   "outputs": [],
   "source": [
    "# Saves the altered images and writes their bounding box coords\n",
    "def saveAndWrite(images, allBoxes, imgPath):  \n",
    "    imgName = imgPath[:-4]\n",
    "    writeName = imgName + \".txt\"\n",
    "    \n",
    "    count = 0\n",
    "    boxCount = 0\n",
    "    for img in images:\n",
    "\n",
    "        # Setting up consistent filenames\n",
    "        newName = imgName + \"-\" + str(count)\n",
    "        newImgName = newName + \".png\"\n",
    "        newWriteName = newName + \".txt\"\n",
    "        \n",
    "        imgTest = img.copy()\n",
    "        boxes = allBoxes[boxCount]\n",
    "        \n",
    "        dim = imgTest.shape[0]\n",
    "        ##############################\n",
    "        # Calculates the actual pixels\n",
    "        for box in boxes:\n",
    "            \n",
    "            x = box[1] * dim\n",
    "            y = box[2] * dim\n",
    "            w = box[3] * dim\n",
    "            h = box[4] * dim\n",
    "            \n",
    "            topleft = (int(x - w/2), int(y - h/2))\n",
    "            bottomright = (int(x + w/2), int(y + h/2))\n",
    "    \n",
    "            # Draws bounding rectangle\n",
    "            cv.rectangle(imgTest, topleft, bottomright, (50, 205, 50), 2)         \n",
    "\n",
    "        ##############################\n",
    "                \n",
    "        imgBGR = cv.cvtColor(img, cv.COLOR_RGB2BGR)  # Converts it from OpenCV's BGR to normal RGB\n",
    "        imgBGRTest = cv.cvtColor(imgTest, cv.COLOR_RGB2BGR)  # Converts it from OpenCV's BGR to normal RGB\n",
    "        \n",
    "        cv.imwrite(savepath + newImgName, imgBGR)\n",
    "        cv.imwrite(boxpath + newImgName, imgBGRTest)\n",
    "\n",
    "        writeBoxCoords(allBoxes[boxCount], labelpath + newWriteName)\n",
    "        \n",
    "        count += 1\n",
    "    \n",
    "        if count % 4 == 0:\n",
    "            boxCount += 1\n",
    "\n",
    "    return count"
   ]
  },
  {
   "cell_type": "code",
   "execution_count": 11,
   "id": "c5434999-bef4-4063-a7d4-92b1e79c1f2e",
   "metadata": {},
   "outputs": [],
   "source": [
    "# Displays two images next to each other\n",
    "def showManipulatedImages(images):\n",
    "    \n",
    "    fig, axes = plt.subplots(4, 4, figsize=(10, 10))\n",
    "            \n",
    "    axes[0][0].set_title(\"Original\")\n",
    "    axes[0][1].set_title(\"Blurred\")\n",
    "    axes[0][2].set_title(\"Jittered 1\")\n",
    "    axes[0][3].set_title(\"Jittered 2\")\n",
    "\n",
    "    axes[1][0].set_title(\"Flipped\")\n",
    "    axes[1][1].set_title(\"Blurred\")\n",
    "    axes[1][2].set_title(\"Jittered 1\")\n",
    "    axes[1][3].set_title(\"Jittered 2\")\n",
    "\n",
    "    axes[2][0].set_title(\"Flipped\")\n",
    "    axes[2][1].set_title(\"Blurred\")\n",
    "    axes[2][2].set_title(\"Jittered 1\")\n",
    "    axes[2][3].set_title(\"Jittered 2\")\n",
    "\n",
    "    axes[3][0].set_title(\"Flipped\")\n",
    "    axes[3][1].set_title(\"Blurred\")\n",
    "    axes[3][2].set_title(\"Jittered 1\")\n",
    "    axes[3][3].set_title(\"Jittered 2\")\n",
    "\n",
    "    count = 0\n",
    "    for i in range(4):\n",
    "        for j in range(4):\n",
    "            axes[i][j].axis('off')\n",
    "            axes[i][j].imshow(images[count], cmap, vmin=0, vmax=255)\n",
    "            count += 1\n",
    "                \n",
    "    plt.tight_layout()"
   ]
  },
  {
   "cell_type": "code",
   "execution_count": 12,
   "id": "ab95741b-f0d3-47ad-b962-a20ce16a58e2",
   "metadata": {},
   "outputs": [],
   "source": [
    "# Test displays bounding boxes on new images\n",
    "def testBoxes(images, allBoxes):\n",
    "    \n",
    "    # Testing the bounding boxes on the new images\n",
    "    imgTests = []\n",
    "    \n",
    "    count = 0\n",
    "    boxCount = 0\n",
    "    for img in images:\n",
    "    \n",
    "        imgTest = img.copy()\n",
    "        boxes = allBoxes[boxCount]\n",
    "    \n",
    "        dim = imgTest.shape[0]\n",
    "    \n",
    "        ##############################\n",
    "        # Calculates the actual pixels\n",
    "        for box in boxes:\n",
    "            \n",
    "            x = box[1] * dim\n",
    "            y = box[2] * dim\n",
    "            w = box[3] * dim\n",
    "            h = box[4] * dim\n",
    "            \n",
    "            topleft = (int(x - w/2), int(y - h/2))\n",
    "            bottomright = (int(x + w/2), int(y + h/2))\n",
    "    \n",
    "            # Draws bounding rectangle\n",
    "            cv.rectangle(imgTest, topleft, bottomright, (50, 205, 50), 2)         \n",
    "    \n",
    "        imgTests.append(imgTest)\n",
    "        ##############################\n",
    "        \n",
    "        count += 1\n",
    "        if count % 4 == 0:\n",
    "            boxCount += 1\n",
    "\n",
    "    return imgTests"
   ]
  },
  {
   "cell_type": "markdown",
   "id": "350c4257-09ae-480f-9131-6f50e7a5ef22",
   "metadata": {},
   "source": [
    "# Image Test"
   ]
  },
  {
   "cell_type": "code",
   "execution_count": 16,
   "id": "06d0dff1-5d98-468c-88ec-23855d8a7985",
   "metadata": {},
   "outputs": [
    {
     "name": "stdout",
     "output_type": "stream",
     "text": [
      "/Users/molte/OneDrive/Desktop/UAFS/~Spring 2024/Capstone/images/sodatest.png\n"
     ]
    },
    {
     "data": {
      "image/png": "[encoded data removed]",
      "text/plain": [
       "<Figure size 300x300 with 1 Axes>"
      ]
     },
     "metadata": {},
     "output_type": "display_data"
    }
   ],
   "source": [
    "# Loads the image\n",
    "imgName = \"sodatest.png\" # CHANGE THIS ONLY\n",
    "loadpath = path + imgName\n",
    "print(loadpath)\n",
    "\n",
    "img = Image.open(loadpath)\n",
    "array = np.array(img)\n",
    "\n",
    "showImage(img)"
   ]
  },
  {
   "cell_type": "code",
   "execution_count": 17,
   "id": "38ad96b9-9d07-4351-bd93-0c9051f5644a",
   "metadata": {},
   "outputs": [],
   "source": [
    "# Get pixel counts\n",
    "rs = np.zeros(256, dtype=\"uint8\")\n",
    "gs = np.zeros(256, dtype=\"uint8\")\n",
    "bs = np.zeros(256, dtype=\"uint8\")\n",
    "\n",
    "channelR = array[:,:,0].flatten()\n",
    "channelG = array[:,:,1].flatten()\n",
    "channelB = array[:,:,2].flatten()\n",
    "alpha = array[:,:,3].flatten()\n",
    "\n",
    "count = 0\n",
    "for i in range(len(alpha)):\n",
    "\n",
    "    if alpha[i] > 0:\n",
    "        \n",
    "        pxlR = channelR[i]\n",
    "        pxlG = channelG[i]\n",
    "        pxlB = channelB[i]\n",
    "        \n",
    "        rs[pxlR] += 1\n",
    "        gs[pxlG] += 1\n",
    "        bs[pxlB] += 1\n",
    "\n",
    "        count += 1"
   ]
  },
  {
   "cell_type": "code",
   "execution_count": 19,
   "id": "6b71d314-64a0-477e-898b-fd36ec2afe1b",
   "metadata": {},
   "outputs": [
    {
     "name": "stdout",
     "output_type": "stream",
     "text": [
      "[17. 97. 68.]\n",
      "[ 96. 220. 219.]\n"
     ]
    }
   ],
   "source": [
    "# Finds the mins and maxs\n",
    "percMin = .05\n",
    "percMax = .01\n",
    "limitMin = round(count * percMin)\n",
    "limitMax = round(count * percMax)\n",
    "\n",
    "channels = [rs, gs, bs]\n",
    "\n",
    "mins = findMins(channels, limitMin)\n",
    "maxs = findMaxs(channels, limitMax)\n",
    "\n",
    "print(mins)\n",
    "print(maxs)"
   ]
  },
  {
   "cell_type": "code",
   "execution_count": null,
   "id": "30095d0c-7dd5-482b-b650-d870a4a461dc",
   "metadata": {},
   "outputs": [],
   "source": []
  },
  {
   "cell_type": "code",
   "execution_count": null,
   "id": "d4f12940-7ccc-4cb8-9122-a898b08699b5",
   "metadata": {},
   "outputs": [],
   "source": []
  }
 ],
 "metadata": {
  "kernelspec": {
   "display_name": "Python 3 (ipykernel)",
   "language": "python",
   "name": "python3"
  },
  "language_info": {
   "codemirror_mode": {
    "name": "ipython",
    "version": 3
   },
   "file_extension": ".py",
   "mimetype": "text/x-python",
   "name": "python",
   "nbconvert_exporter": "python",
   "pygments_lexer": "ipython3",
   "version": "3.11.4"
  }
 },
 "nbformat": 4,
 "nbformat_minor": 5
}
